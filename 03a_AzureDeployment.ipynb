{
  "cells": [
    {
      "cell_type": "markdown",
      "source": [
        "# Deployment -- On Azure\r\n",
        "\r\n",
        "In this notebook, we continue to deploy our AI model as a Webservice.  \r\n",
        "As our AI model has been trained and registered in the previous notebook, we can easily load in this information in here!"
      ],
      "metadata": {
        "nteract": {
          "transient": {
            "deleting": false
          }
        }
      }
    },
    {
      "cell_type": "markdown",
      "source": [
        "**SELECT THE RIGHT KERNELS**"
      ],
      "metadata": {
        "nteract": {
          "transient": {
            "deleting": false
          }
        }
      }
    },
    {
      "cell_type": "code",
      "source": [
        "model_name = 'animal-cnn'"
      ],
      "outputs": [],
      "execution_count": null,
      "metadata": {
        "gather": {
          "logged": 1655918253871
        }
      }
    },
    {
      "cell_type": "code",
      "source": [
        "import os\r\n",
        "import cv2"
      ],
      "outputs": [],
      "execution_count": null,
      "metadata": {
        "jupyter": {
          "source_hidden": false,
          "outputs_hidden": false
        },
        "nteract": {
          "transient": {
            "deleting": false
          }
        },
        "gather": {
          "logged": 1655918254356
        }
      }
    },
    {
      "cell_type": "code",
      "source": [
        "## Import AzureML packages\r\n",
        "from azureml.core import Workspace\r\n",
        "from azureml.core import Dataset\r\n",
        "from azureml.core import Model\r\n",
        "from azureml.data.datapath import DataPath\r\n",
        "from azureml.core.compute import AmlCompute\r\n",
        "from azureml.core.compute import ComputeTarget"
      ],
      "outputs": [],
      "execution_count": null,
      "metadata": {
        "jupyter": {
          "source_hidden": false,
          "outputs_hidden": false
        },
        "nteract": {
          "transient": {
            "deleting": false
          }
        },
        "gather": {
          "logged": 1655918254555
        }
      }
    },
    {
      "cell_type": "code",
      "source": [
        "import json\r\n",
        "import numpy as np\r\n",
        "class NumpyEncoder(json.JSONEncoder):\r\n",
        "    def default(self, obj):\r\n",
        "        if isinstance(obj, np.ndarray):\r\n",
        "            return obj.tolist()\r\n",
        "        return json.JSONEncoder.default(self, obj)"
      ],
      "outputs": [],
      "execution_count": null,
      "metadata": {
        "jupyter": {
          "source_hidden": false,
          "outputs_hidden": false
        },
        "nteract": {
          "transient": {
            "deleting": false
          }
        },
        "gather": {
          "logged": 1655918254691
        }
      }
    },
    {
      "cell_type": "markdown",
      "source": [
        "## Step 1: Connect Workspace"
      ],
      "metadata": {
        "nteract": {
          "transient": {
            "deleting": false
          }
        }
      }
    },
    {
      "cell_type": "code",
      "source": [
        "## Either get environment variables, or a fallback name, which is the second parameter.\r\n",
        "## Currently, fill in the fallback values. Later on, we will make sure to work with Environment values. So we're already preparing for it in here!\r\n",
        "workspace_name = os.environ.get('WORKSPACE', 'MLOps-Workshop')\r\n",
        "subscription_id = os.environ.get('SUBSCRIPTION_ID', '763622cd-d9e1-46f1-84c7-635df9708641')\r\n",
        "resource_group = os.environ.get('RESOURCE_GROUP', 'TETRA-Workshop-2406')"
      ],
      "outputs": [],
      "execution_count": null,
      "metadata": {
        "jupyter": {
          "source_hidden": false,
          "outputs_hidden": false
        },
        "nteract": {
          "transient": {
            "deleting": false
          }
        },
        "gather": {
          "logged": 1655918263508
        }
      }
    },
    {
      "cell_type": "code",
      "source": [
        "ws = Workspace.get(name=workspace_name,\r\n",
        "               subscription_id=subscription_id,\r\n",
        "               resource_group=resource_group)"
      ],
      "outputs": [],
      "execution_count": null,
      "metadata": {
        "jupyter": {
          "source_hidden": false,
          "outputs_hidden": false
        },
        "nteract": {
          "transient": {
            "deleting": false
          }
        },
        "gather": {
          "logged": 1655918264220
        }
      }
    },
    {
      "cell_type": "markdown",
      "source": [
        "## Step 2: Create a deployment script and environment"
      ],
      "metadata": {
        "nteract": {
          "transient": {
            "deleting": false
          }
        }
      }
    },
    {
      "cell_type": "code",
      "source": [
        "%%writefile scripts/score.py\r\n",
        "import os\r\n",
        "import numpy as np\r\n",
        "import json\r\n",
        "from tensorflow import keras\r\n",
        "from tensorflow.keras.models import load_model\r\n",
        "from PIL import Image\r\n",
        "\r\n",
        "ANIMALS = ['Cat', 'Dog', 'Panda']\r\n",
        "\r\n",
        "def init():\r\n",
        "    global model\r\n",
        "\r\n",
        "    # The AZUREML_MODEL_DIR environment variable indicates\r\n",
        "    # a directory containing the model file you registered.\r\n",
        "    model_path = os.path.join(os.environ.get('AZUREML_MODEL_DIR'), 'animal-cnn-test')\r\n",
        "\r\n",
        "    model = load_model(model_path)\r\n",
        "\r\n",
        "def run(image):\r\n",
        "    data = json.loads(image)\r\n",
        "    img = np.asarray(data['data'])\r\n",
        "    print(img.shape)\r\n",
        "    images_to_predict = np.expand_dims(img, axis=0)\r\n",
        "    predictions = model.predict(images_to_predict)\r\n",
        "    classifications = predictions.argmax(axis=1)\r\n",
        "\r\n",
        "    return ANIMALS[classifications.tolist()[0]]"
      ],
      "outputs": [],
      "execution_count": null,
      "metadata": {
        "jupyter": {
          "source_hidden": false,
          "outputs_hidden": false
        },
        "nteract": {
          "transient": {
            "deleting": false
          }
        }
      }
    },
    {
      "cell_type": "code",
      "source": [
        "from azureml.core import Environment\r\n",
        "from azureml.core.conda_dependencies import CondaDependencies\r\n",
        "\r\n",
        "environment_name = os.environ.get('TRAINING_ENV_NAME', 'animals-classification-env-deployment')\r\n",
        "environment = Environment(environment_name)\r\n",
        "environment.python.conda_dependencies = CondaDependencies.create(pip_packages=[\r\n",
        "    'azureml-defaults',\r\n",
        "    'tensorflow',\r\n",
        "    'numpy',\r\n",
        "    'Pillow'\r\n",
        "])"
      ],
      "outputs": [],
      "execution_count": null,
      "metadata": {
        "jupyter": {
          "source_hidden": false,
          "outputs_hidden": false
        },
        "nteract": {
          "transient": {
            "deleting": false
          }
        },
        "gather": {
          "logged": 1655918266333
        }
      }
    },
    {
      "cell_type": "code",
      "source": [
        "print()"
      ],
      "outputs": [],
      "execution_count": null,
      "metadata": {
        "jupyter": {
          "source_hidden": false,
          "outputs_hidden": false
        },
        "nteract": {
          "transient": {
            "deleting": false
          }
        },
        "gather": {
          "logged": 1655919656919
        }
      }
    },
    {
      "cell_type": "code",
      "source": [
        "from azureml.core.model import InferenceConfig\r\n",
        "from azureml.core.webservice import AciWebservice\r\n",
        "\r\n",
        "\r\n",
        "service_name = os.environ.get('SCRIPT_SERVICE_NAME', 'animals-classification-svc-3')\r\n",
        "\r\n",
        "inference_config = InferenceConfig(entry_script='scripts/score.py', environment=environment)\r\n",
        "aci_config = AciWebservice.deploy_configuration(cpu_cores=1, memory_gb=1)\r\n",
        "\r\n",
        "# Get our model based on the name we registered in the previous notebook\r\n",
        "model = Model(ws, model_name)\r\n",
        "\r\n",
        "service = Model.deploy(workspace=ws,\r\n",
        "                       name=service_name,\r\n",
        "                       models=[model],\r\n",
        "                       inference_config=inference_config,\r\n",
        "                       deployment_config=aci_config,\r\n",
        "                       overwrite=True)\r\n",
        "service.wait_for_deployment(show_output=True)"
      ],
      "outputs": [],
      "execution_count": null,
      "metadata": {
        "jupyter": {
          "source_hidden": false,
          "outputs_hidden": false
        },
        "nteract": {
          "transient": {
            "deleting": false
          }
        },
        "gather": {
          "logged": 1655919887848
        }
      }
    },
    {
      "cell_type": "markdown",
      "source": [
        "## Step 3 -- Test the service\r\n",
        "\r\n",
        "Now that we have an endpoint, we can try to upload an image and get a result.  \r\n",
        "We will just get a value of 0 - 2, where 0 == 'Cats', 1 == 'Dogs' and 2 == 'Pandas'.  \r\n",
        "\r\n",
        "I found these values in the Logs of our AI model training, but it's also the order we have always used.  \r\n",
        "```text\r\n",
        "# Logging information\r\n",
        "...\r\n",
        "['cats' 'dogs' 'panda'] -- [0 1 2]\r\n",
        "...\r\n",
        "```"
      ],
      "metadata": {
        "nteract": {
          "transient": {
            "deleting": false
          }
        }
      }
    },
    {
      "cell_type": "code",
      "source": [
        "# Read in a test image\r\n",
        "test_image = cv2.imread('data/animals/cats/cats_00001.jpg')\r\n",
        "test_image = cv2.resize(test_image, (64, 64))"
      ],
      "outputs": [],
      "execution_count": null,
      "metadata": {
        "jupyter": {
          "source_hidden": false,
          "outputs_hidden": false
        },
        "nteract": {
          "transient": {
            "deleting": false
          }
        },
        "gather": {
          "logged": 1655919661950
        }
      }
    },
    {
      "cell_type": "code",
      "source": [
        "service.run(json.dumps({'data': test_image}, cls=NumpyEncoder))"
      ],
      "outputs": [],
      "execution_count": null,
      "metadata": {
        "jupyter": {
          "source_hidden": false,
          "outputs_hidden": false
        },
        "nteract": {
          "transient": {
            "deleting": false
          }
        },
        "gather": {
          "logged": 1655919663503
        }
      }
    },
    {
      "cell_type": "markdown",
      "source": [
        "## Step 3b -- Test the service with default Python requests "
      ],
      "metadata": {
        "nteract": {
          "transient": {
            "deleting": false
          }
        }
      }
    },
    {
      "cell_type": "code",
      "source": [
        "# URL for the web service\r\n",
        "scoring_uri = service.scoring_uri\r\n",
        "print(scoring_uri)"
      ],
      "outputs": [],
      "execution_count": null,
      "metadata": {
        "jupyter": {
          "source_hidden": false,
          "outputs_hidden": false
        },
        "nteract": {
          "transient": {
            "deleting": false
          }
        },
        "gather": {
          "logged": 1655919666761
        }
      }
    },
    {
      "cell_type": "code",
      "source": [
        "import requests\r\n",
        "import json\r\n",
        "\r\n",
        "# Two sets of data to score, so we get two results back\r\n",
        "data = {\"data\": test_image}\r\n",
        "# Convert to JSON string\r\n",
        "input_data = json.dumps(data, cls=NumpyEncoder)\r\n",
        "\r\n",
        "# Set the content type\r\n",
        "headers = {'Content-Type': 'application/json'}\r\n",
        "\r\n",
        "# Make the request and display the response\r\n",
        "resp = requests.post(scoring_uri, input_data, headers=headers)\r\n",
        "print(resp.text)"
      ],
      "outputs": [],
      "execution_count": null,
      "metadata": {
        "jupyter": {
          "source_hidden": false,
          "outputs_hidden": false
        },
        "nteract": {
          "transient": {
            "deleting": false
          }
        },
        "gather": {
          "logged": 1655919667678
        }
      }
    },
    {
      "cell_type": "markdown",
      "source": [
        "## Step 4 -- Clear the service\r\n",
        "\r\n",
        "Execute this cell to remove your service after it has been tested."
      ],
      "metadata": {
        "nteract": {
          "transient": {
            "deleting": false
          }
        }
      }
    },
    {
      "cell_type": "code",
      "source": [
        "service.delete()"
      ],
      "outputs": [],
      "execution_count": null,
      "metadata": {
        "jupyter": {
          "source_hidden": false,
          "outputs_hidden": false
        },
        "nteract": {
          "transient": {
            "deleting": false
          }
        },
        "gather": {
          "logged": 1655919675719
        }
      }
    },
    {
      "cell_type": "code",
      "source": [],
      "outputs": [],
      "execution_count": null,
      "metadata": {
        "jupyter": {
          "source_hidden": false,
          "outputs_hidden": false
        },
        "nteract": {
          "transient": {
            "deleting": false
          }
        }
      }
    }
  ],
  "metadata": {
    "kernelspec": {
      "name": "python38-azureml-pt-tf",
      "language": "python",
      "display_name": "Python 3.8 - Pytorch and Tensorflow"
    },
    "language_info": {
      "name": "python",
      "version": "3.8.5",
      "mimetype": "text/x-python",
      "codemirror_mode": {
        "name": "ipython",
        "version": 3
      },
      "pygments_lexer": "ipython3",
      "nbconvert_exporter": "python",
      "file_extension": ".py"
    },
    "kernel_info": {
      "name": "python38-azureml-pt-tf"
    },
    "nteract": {
      "version": "nteract-front-end@1.0.0"
    },
    "microsoft": {
      "host": {
        "AzureML": {
          "notebookHasBeenCompleted": true
        }
      }
    }
  },
  "nbformat": 4,
  "nbformat_minor": 2
}